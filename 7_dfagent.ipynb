{
 "cells": [
  {
   "cell_type": "code",
   "execution_count": 12,
   "metadata": {},
   "outputs": [],
   "source": [
    "from langchain.agents import create_pandas_dataframe_agent\n",
    "from langchain.llms import AzureOpenAI\n",
    "import os\n",
    "import openai\n",
    "from dotenv import load_dotenv"
   ]
  },
  {
   "cell_type": "code",
   "execution_count": 13,
   "metadata": {},
   "outputs": [],
   "source": [
    "import pandas as pd\n",
    "\n",
    "df = pd.read_csv('./mydata/titanic.csv')"
   ]
  },
  {
   "cell_type": "code",
   "execution_count": 14,
   "metadata": {},
   "outputs": [],
   "source": [
    "\n",
    "load_dotenv()\n",
    "# Configure OpenAI API\n",
    "openai.api_type = \"azure\"\n",
    "openai.api_version = \"2022-12-01\"\n",
    "openai.api_base = os.getenv('OPENAI_API_BASE')\n",
    "openai.api_key = os.getenv(\"OPENAI_API_KEY\")"
   ]
  },
  {
   "cell_type": "code",
   "execution_count": 15,
   "metadata": {},
   "outputs": [
    {
     "name": "stdout",
     "output_type": "stream",
     "text": [
      "USING API_BASE: \n",
      "https://oai-sqlgpt.openai.azure.com/\n"
     ]
    }
   ],
   "source": [
    "# Create a completion - qna를 위하여 davinci 모델생성\n",
    "llm = AzureOpenAI(deployment_name=\"text-davinci-003\")"
   ]
  },
  {
   "cell_type": "code",
   "execution_count": 17,
   "metadata": {},
   "outputs": [],
   "source": [
    "agent = create_pandas_dataframe_agent(llm, df, verbose=True)"
   ]
  },
  {
   "cell_type": "code",
   "execution_count": 18,
   "metadata": {},
   "outputs": [
    {
     "name": "stdout",
     "output_type": "stream",
     "text": [
      "\n",
      "\n",
      "\u001b[1m> Entering new AgentExecutor chain...\u001b[0m\n",
      "\u001b[32;1m\u001b[1;3mThought: I need to check the size of the dataframe\n",
      "Action: python_repl_ast\n",
      "Action Input: df.shape\u001b[0m\n",
      "Observation: \u001b[36;1m\u001b[1;3m(891, 12)\u001b[0m\n",
      "Thought:\u001b[32;1m\u001b[1;3m I can see the number of rows is 891\n",
      "Final Answer: There are 891 rows.\u001b[0m\n",
      "\n",
      "\u001b[1m> Finished chain.\u001b[0m\n"
     ]
    },
    {
     "data": {
      "text/plain": [
       "'There are 891 rows.'"
      ]
     },
     "execution_count": 18,
     "metadata": {},
     "output_type": "execute_result"
    }
   ],
   "source": [
    "agent.run(\"how many rows are there?\")"
   ]
  },
  {
   "cell_type": "code",
   "execution_count": 19,
   "metadata": {},
   "outputs": [
    {
     "name": "stdout",
     "output_type": "stream",
     "text": [
      "\n",
      "\n",
      "\u001b[1m> Entering new AgentExecutor chain...\u001b[0m\n",
      "\u001b[32;1m\u001b[1;3mThought: I need to group by gender and then count\n",
      "Action: python_repl_ast\n",
      "Action Input: df.groupby('Sex').count()\u001b[0m\n",
      "Observation: \u001b[36;1m\u001b[1;3m        PassengerId  Survived  Pclass  Name  Age  SibSp  Parch  Ticket  Fare  \\\n",
      "Sex                                                                            \n",
      "female          314       314     314   314  261    314    314     314   314   \n",
      "male            577       577     577   577  453    577    577     577   577   \n",
      "\n",
      "        Cabin  Embarked  \n",
      "Sex                      \n",
      "female     97       312  \n",
      "male      107       577  \u001b[0m\n",
      "Thought:\u001b[32;1m\u001b[1;3m I now know the final answer\n",
      "Final Answer: for females, there are 314 passengers, for males, there are 577 passengers.\u001b[0m\n",
      "\n",
      "\u001b[1m> Finished chain.\u001b[0m\n"
     ]
    },
    {
     "data": {
      "text/plain": [
       "'for females, there are 314 passengers, for males, there are 577 passengers.'"
      ]
     },
     "execution_count": 19,
     "metadata": {},
     "output_type": "execute_result"
    }
   ],
   "source": [
    "agent.run(\"show me each count group by gender?\")"
   ]
  },
  {
   "cell_type": "code",
   "execution_count": 20,
   "metadata": {},
   "outputs": [
    {
     "name": "stdout",
     "output_type": "stream",
     "text": [
      "\n",
      "\n",
      "\u001b[1m> Entering new AgentExecutor chain...\u001b[0m\n",
      "\u001b[32;1m\u001b[1;3mThought: I need to get a list of the column names\n",
      "Action: python_repl_ast\n",
      "Action Input: df.columns\u001b[0m\n",
      "Observation: \u001b[36;1m\u001b[1;3mIndex(['PassengerId', 'Survived', 'Pclass', 'Name', 'Sex', 'Age', 'SibSp',\n",
      "       'Parch', 'Ticket', 'Fare', 'Cabin', 'Embarked'],\n",
      "      dtype='object')\u001b[0m\n",
      "Thought:\u001b[32;1m\u001b[1;3m I now know the final answer\n",
      "Final Answer: ['PassengerId', 'Survived', 'Pclass', 'Name', 'Sex', 'Age', 'SibSp', 'Parch', 'Ticket', 'Fare', 'Cabin', 'Embarked']\u001b[0m\n",
      "\n",
      "\u001b[1m> Finished chain.\u001b[0m\n"
     ]
    },
    {
     "data": {
      "text/plain": [
       "\"['PassengerId', 'Survived', 'Pclass', 'Name', 'Sex', 'Age', 'SibSp', 'Parch', 'Ticket', 'Fare', 'Cabin', 'Embarked']\""
      ]
     },
     "execution_count": 20,
     "metadata": {},
     "output_type": "execute_result"
    }
   ],
   "source": [
    "agent.run(\"전체 컬럼 이름들을 알려줘\")"
   ]
  },
  {
   "cell_type": "code",
   "execution_count": 23,
   "metadata": {},
   "outputs": [
    {
     "name": "stdout",
     "output_type": "stream",
     "text": [
      "\n",
      "\n",
      "\u001b[1m> Entering new AgentExecutor chain...\u001b[0m\n",
      "\u001b[32;1m\u001b[1;3mThought: 나는 형제의 수가 4보다 큰 값을 갖는 행을 찾아야한다.\n",
      "Action: python_repl_ast\n",
      "Action Input: df[df['SibSp'] >= 4]\u001b[0m\n",
      "Observation: \u001b[36;1m\u001b[1;3m     PassengerId  Survived  Pclass                                     Name  \\\n",
      "16            17         0       3                     Rice, Master. Eugene   \n",
      "50            51         0       3               Panula, Master. Juha Niilo   \n",
      "59            60         0       3       Goodwin, Master. William Frederick   \n",
      "68            69         1       3          Andersson, Miss. Erna Alexandra   \n",
      "71            72         0       3               Goodwin, Miss. Lillian Amy   \n",
      "119          120         0       3        Andersson, Miss. Ellis Anna Maria   \n",
      "159          160         0       3               Sage, Master. Thomas Henry   \n",
      "164          165         0       3             Panula, Master. Eino Viljami   \n",
      "171          172         0       3                     Rice, Master. Arthur   \n",
      "180          181         0       3             Sage, Miss. Constance Gladys   \n",
      "182          183         0       3    Asplund, Master. Clarence Gustaf Hugo   \n",
      "201          202         0       3                      Sage, Mr. Frederick   \n",
      "233          234         1       3           Asplund, Miss. Lillian Gertrud   \n",
      "261          262         1       3        Asplund, Master. Edvin Rojj Felix   \n",
      "266          267         0       3                Panula, Mr. Ernesti Arvid   \n",
      "278          279         0       3                       Rice, Master. Eric   \n",
      "324          325         0       3                 Sage, Mr. George John Jr   \n",
      "386          387         0       3          Goodwin, Master. Sidney Leonard   \n",
      "480          481         0       3           Goodwin, Master. Harold Victor   \n",
      "541          542         0       3     Andersson, Miss. Ingeborg Constanzia   \n",
      "542          543         0       3        Andersson, Miss. Sigrid Elisabeth   \n",
      "683          684         0       3              Goodwin, Mr. Charles Edward   \n",
      "686          687         0       3                 Panula, Mr. Jaako Arnold   \n",
      "787          788         0       3                Rice, Master. George Hugh   \n",
      "792          793         0       3                  Sage, Miss. Stella Anna   \n",
      "813          814         0       3       Andersson, Miss. Ebba Iris Alfrida   \n",
      "824          825         0       3             Panula, Master. Urho Abraham   \n",
      "846          847         0       3                 Sage, Mr. Douglas Bullen   \n",
      "850          851         0       3  Andersson, Master. Sigvard Harald Elias   \n",
      "863          864         0       3        Sage, Miss. Dorothy Edith \"Dolly\"   \n",
      "\n",
      "        Sex   Age  SibSp  Parch    Ticket     Fare Cabin Embarked  \n",
      "16     male   2.0      4      1    382652  29.1250   NaN        Q  \n",
      "50     male   7.0      4      1   3101295  39.6875   NaN        S  \n",
      "59     male  11.0      5      2   CA 2144  46.9000   NaN        S  \n",
      "68   female  17.0      4      2   3101281   7.9250   NaN        S  \n",
      "71   female  16.0      5      2   CA 2144  46.9000   NaN        S  \n",
      "119  female   2.0      4      2    347082  31.2750   NaN        S  \n",
      "159    male   NaN      8      2  CA. 2343  69.5500   NaN        S  \n",
      "164    male   1.0      4      1   3101295  39.6875   NaN        S  \n",
      "171    male   4.0      4      1    382652  29.1250   NaN        Q  \n",
      "180  female   NaN      8      2  CA. 2343  69.5500   NaN        S  \n",
      "182    male   9.0      4      2    347077  31.3875   NaN        S  \n",
      "201    male   NaN      8      2  CA. 2343  69.5500   NaN        S  \n",
      "233  female   5.0      4      2    347077  31.3875   NaN        S  \n",
      "261    male   3.0      4      2    347077  31.3875   NaN        S  \n",
      "266    male  16.0      4      1   3101295  39.6875   NaN        S  \n",
      "278    male   7.0      4      1    382652  29.1250   NaN        Q  \n",
      "324    male   NaN      8      2  CA. 2343  69.5500   NaN        S  \n",
      "386    male   1.0      5      2   CA 2144  46.9000   NaN        S  \n",
      "480    male   9.0      5      2   CA 2144  46.9000   NaN        S  \n",
      "541  female   9.0      4      2    347082  31.2750   NaN        S  \n",
      "542  female  11.0      4      2    347082  31.2750   NaN        S  \n",
      "683    male  14.0      5      2   CA 2144  46.9000   NaN        S  \n",
      "686    male  14.0      4      1   3101295  39.6875   NaN        S  \n",
      "787    male   8.0      4      1    382652  29.1250   NaN        Q  \n",
      "792  female   NaN      8      2  CA. 2343  69.5500   NaN        S  \n",
      "813  female   6.0      4      2    347082  31.2750   NaN        S  \n",
      "824    male   2.0      4      1   3101295  39.6875   NaN        S  \n",
      "846    male   NaN      8      2  CA. 2343  69.5500   NaN        S  \n",
      "850    male   4.0      4      2    347082  31.2750   NaN        S  \n",
      "863  female   NaN      8      2  CA. 2343  69.5500   NaN        S  \u001b[0m\n",
      "Thought:\u001b[32;1m\u001b[1;3m 위의 결과를 통해 답을 찾을 수 있다.\n",
      "Action: python_repl_ast\n",
      "Action Input: df[df['SibSp'] >= 4]['PassengerId'].count()\u001b[0m\n",
      "Observation: \u001b[36;1m\u001b[1;3m30\u001b[0m\n",
      "Thought:\u001b[32;1m\u001b[1;3m 답을 찾았다.\n",
      "Final Answer: 4명 이상의 형제를 가진사람은 30명이다.\u001b[0m\n",
      "\n",
      "\u001b[1m> Finished chain.\u001b[0m\n"
     ]
    },
    {
     "data": {
      "text/plain": [
       "'4명 이상의 형제를 가진사람은 30명이다.'"
      ]
     },
     "execution_count": 23,
     "metadata": {},
     "output_type": "execute_result"
    }
   ],
   "source": [
    "agent.run(\"4명 이상의 형제를 가진사람은 몇명이야?\")"
   ]
  },
  {
   "cell_type": "code",
   "execution_count": 22,
   "metadata": {},
   "outputs": [
    {
     "name": "stdout",
     "output_type": "stream",
     "text": [
      "\n",
      "\n",
      "\u001b[1m> Entering new AgentExecutor chain...\u001b[0m\n",
      "\u001b[32;1m\u001b[1;3mThought: I must find out how many passengers have more than 3 siblings\n",
      "Action: python_repl_ast\n",
      "Action Input: df['SibSp'].value_counts() > 3\u001b[0m\n",
      "Observation: \u001b[36;1m\u001b[1;3m0    True\n",
      "1    True\n",
      "2    True\n",
      "4    True\n",
      "3    True\n",
      "8    True\n",
      "5    True\n",
      "Name: SibSp, dtype: bool\u001b[0m\n",
      "Thought:\u001b[32;1m\u001b[1;3m I need to count how many True results there are\n",
      "Action: python_repl_ast\n",
      "Action Input: df['SibSp'].value_counts() > 3).sum()\u001b[0m\n",
      "Observation: \u001b[36;1m\u001b[1;3munmatched ')' (<unknown>, line 1)\u001b[0m\n",
      "Thought:\u001b[32;1m\u001b[1;3m I need to add parenthesis to the input\n",
      "Action: python_repl_ast\n",
      "Action Input: (df['SibSp'].value_counts() > 3).sum()\u001b[0m\n",
      "Observation: \u001b[36;1m\u001b[1;3m7\u001b[0m\n",
      "Thought:\u001b[32;1m\u001b[1;3m I now know the final answer\n",
      "Final Answer: 7 passengers have more than 3 siblings.\u001b[0m\n",
      "\n",
      "\u001b[1m> Finished chain.\u001b[0m\n"
     ]
    },
    {
     "data": {
      "text/plain": [
       "'7 passengers have more than 3 siblings.'"
      ]
     },
     "execution_count": 22,
     "metadata": {},
     "output_type": "execute_result"
    }
   ],
   "source": [
    "agent.run(\"how many people have more than 3 sibligngs\")"
   ]
  },
  {
   "cell_type": "code",
   "execution_count": 24,
   "metadata": {},
   "outputs": [
    {
     "name": "stdout",
     "output_type": "stream",
     "text": [
      "\n",
      "\n",
      "\u001b[1m> Entering new AgentExecutor chain...\u001b[0m\n",
      "\u001b[32;1m\u001b[1;3mThought: 데이터 프레임의 성별 열을 이용해서 각각 몇명이 살아있는지 확인해야한다.\n",
      "Action: python_repl_ast\n",
      "Action Input: df.groupby('Sex').Survived.sum()\u001b[0m\n",
      "Observation: \u001b[36;1m\u001b[1;3mSex\n",
      "female    233\n",
      "male      109\n",
      "Name: Survived, dtype: int64\u001b[0m\n",
      "Thought:\u001b[32;1m\u001b[1;3m 이렇게 나온 결과로 여성과 남성이 각각 몇 명 살아있는지 확인할 수 있다.\n",
      "Final Answer: 여성은 233명, 남성은 109명이 살아있었습니다.\u001b[0m\n",
      "\n",
      "\u001b[1m> Finished chain.\u001b[0m\n"
     ]
    },
    {
     "data": {
      "text/plain": [
       "'여성은 233명, 남성은 109명이 살아있었습니다.'"
      ]
     },
     "execution_count": 24,
     "metadata": {},
     "output_type": "execute_result"
    }
   ],
   "source": [
    "agent.run(\"성별로 구분해서 각각 몇명이 살아있어?\")"
   ]
  },
  {
   "cell_type": "code",
   "execution_count": 25,
   "metadata": {},
   "outputs": [
    {
     "name": "stdout",
     "output_type": "stream",
     "text": [
      "\n",
      "\n",
      "\u001b[1m> Entering new AgentExecutor chain...\u001b[0m\n",
      "\u001b[32;1m\u001b[1;3mThought: 나이, 성별, 티켓 클래스에 따른 살아남은 확률을 분석해보자.\n",
      "Action: python_repl_ast\n",
      "Action Input: df.groupby(['Sex', 'Age', 'Pclass'])['Survived'].mean()\u001b[0m\n",
      "Observation: \u001b[36;1m\u001b[1;3mSex     Age    Pclass\n",
      "female  0.75   3         1.00\n",
      "        1.00   3         1.00\n",
      "        2.00   1         0.00\n",
      "               2         1.00\n",
      "               3         0.25\n",
      "                         ... \n",
      "male    70.00  2         0.00\n",
      "        70.50  3         0.00\n",
      "        71.00  1         0.00\n",
      "        74.00  3         0.00\n",
      "        80.00  1         1.00\n",
      "Name: Survived, Length: 283, dtype: float64\u001b[0m\n",
      "Thought:\u001b[32;1m\u001b[1;3m 이렇게 분석한 데이터를 바탕으로 살아남은 확률을 상위 3개 성별, 나이, 티켓 클래스를 기준으로 나열해보자.\n",
      "Action: python_repl_ast\n",
      "Action Input: df.groupby(['Sex', 'Age', 'Pclass'])['Survived'].mean().nlargest(3)\u001b[0m\n",
      "Observation: \u001b[36;1m\u001b[1;3mSex     Age   Pclass\n",
      "female  0.75  3         1.0\n",
      "        1.00  3         1.0\n",
      "        2.00  2         1.0\n",
      "Name: Survived, dtype: float64\u001b[0m\n",
      "Thought:\u001b[32;1m\u001b[1;3m 이렇게 분석한 데이터를 바탕으로 살아남은 확률이 가장 높은 사람은 누구인가?\n",
      "Action: python_repl_ast\n",
      "Action Input: df.loc[(df.Sex == 'female') & (df.Age == 0.75) & (df.Pclass == 3)]\u001b[0m\n",
      "Observation: \u001b[36;1m\u001b[1;3m     PassengerId  Survived  Pclass                           Name     Sex  \\\n",
      "469          470         1       3  Baclini, Miss. Helene Barbara  female   \n",
      "644          645         1       3         Baclini, Miss. Eugenie  female   \n",
      "\n",
      "      Age  SibSp  Parch Ticket     Fare Cabin Embarked  \n",
      "469  0.75      2      1   2666  19.2583   NaN        C  \n",
      "644  0.75      2      1   2666  19.2583   NaN        C  \u001b[0m\n",
      "Thought:\u001b[32;1m\u001b[1;3m 이렇게 분석한 데이터를 바탕으로 살아남은 확률이 가장 높은 사람들의 이름을 알아보자.\n",
      "Action: python_repl_ast\n",
      "Action Input: df.loc[(df.Sex == 'female') & (df.Age == 0.75) & (df.Pclass == 3), 'Name']\u001b[0m\n",
      "Observation: \u001b[36;1m\u001b[1;3m469    Baclini, Miss. Helene Barbara\n",
      "644           Baclini, Miss. Eugenie\n",
      "Name: Name, dtype: object\u001b[0m\n",
      "Thought:\u001b[32;1m\u001b[1;3m I now know the final answer\n",
      "Final Answer: 살아남은 확률이 가장 높은 사람들의 이름은 Baclini, Miss. Helene Barbara과 Baclini, Miss. Eugenie 입니다.\u001b[0m\n",
      "\n",
      "\u001b[1m> Finished chain.\u001b[0m\n"
     ]
    },
    {
     "data": {
      "text/plain": [
       "'살아남은 확률이 가장 높은 사람들의 이름은 Baclini, Miss. Helene Barbara과 Baclini, Miss. Eugenie 입니다.'"
      ]
     },
     "execution_count": 25,
     "metadata": {},
     "output_type": "execute_result"
    }
   ],
   "source": [
    "agent.run(\"전체 데이터를 분석해보면 어떤 사람이 살아 있을 확률이 클까?\")"
   ]
  },
  {
   "cell_type": "code",
   "execution_count": 26,
   "metadata": {},
   "outputs": [
    {
     "name": "stdout",
     "output_type": "stream",
     "text": [
      "\n",
      "\n",
      "\u001b[1m> Entering new AgentExecutor chain...\u001b[0m\n",
      "\u001b[32;1m\u001b[1;3mThought: 데이터를 분석해야 함\n",
      "Action: python_repl_ast\n",
      "Action Input: df.groupby(['Sex', 'Age', 'Pclass'])['Survived'].mean().sort_values(ascending=False).head(3)\u001b[0m\n",
      "Observation: \u001b[36;1m\u001b[1;3mSex     Age    Pclass\n",
      "female  0.75   3         1.0\n",
      "        44.00  1         1.0\n",
      "        40.00  2         1.0\n",
      "Name: Survived, dtype: float64\u001b[0m\n",
      "Thought:\u001b[32;1m\u001b[1;3m 3개의 상위 확률을 알게 되었음\n",
      "Final Answer: 살아 있을 확률이 가장 높은 상위 3개의 성별, 나이, 티켓 클래스는 각각 여성, 0.75 세, 티켓 클래스 1과 여성, 44세, 티켓 클래스 1, 여성, 40세, 티켓 클래스 2 입니다.\u001b[0m\n",
      "\n",
      "\u001b[1m> Finished chain.\u001b[0m\n"
     ]
    },
    {
     "data": {
      "text/plain": [
       "'살아 있을 확률이 가장 높은 상위 3개의 성별, 나이, 티켓 클래스는 각각 여성, 0.75 세, 티켓 클래스 1과 여성, 44세, 티켓 클래스 1, 여성, 40세, 티켓 클래스 2 입니다.'"
      ]
     },
     "execution_count": 26,
     "metadata": {},
     "output_type": "execute_result"
    }
   ],
   "source": [
    "agent.run(\"전체 데이터를 분석해보면 살아 있을 확률이 가장높은 상위 3개의 성별, 나이, 티켓 클래스를 알려줘?\")"
   ]
  },
  {
   "cell_type": "code",
   "execution_count": 29,
   "metadata": {},
   "outputs": [
    {
     "name": "stdout",
     "output_type": "stream",
     "text": [
      "\n",
      "\n",
      "\u001b[1m> Entering new AgentExecutor chain...\u001b[0m\n",
      "\u001b[32;1m\u001b[1;3mThought: 남성 40대 티켓클래스 1 인 행들만 찾아서 그 중에서 살아남은 행을 찾아야 한다.\n",
      "Action: python_repl_ast\n",
      "Action Input: df[(df['Sex']=='male') & (df['Age']>=40) & (df['Pclass']==1)]\u001b[0m\n",
      "Observation: \u001b[36;1m\u001b[1;3m     PassengerId  Survived  Pclass  \\\n",
      "6              7         0       1   \n",
      "30            31         0       1   \n",
      "35            36         0       1   \n",
      "54            55         0       1   \n",
      "62            63         0       1   \n",
      "92            93         0       1   \n",
      "96            97         0       1   \n",
      "110          111         0       1   \n",
      "124          125         0       1   \n",
      "155          156         0       1   \n",
      "170          171         0       1   \n",
      "174          175         0       1   \n",
      "187          188         1       1   \n",
      "209          210         1       1   \n",
      "245          246         0       1   \n",
      "252          253         0       1   \n",
      "262          263         0       1   \n",
      "263          264         0       1   \n",
      "331          332         0       1   \n",
      "339          340         0       1   \n",
      "434          435         0       1   \n",
      "438          439         0       1   \n",
      "449          450         1       1   \n",
      "453          454         1       1   \n",
      "456          457         0       1   \n",
      "460          461         1       1   \n",
      "462          463         0       1   \n",
      "467          468         0       1   \n",
      "487          488         0       1   \n",
      "492          493         0       1   \n",
      "493          494         0       1   \n",
      "515          516         0       1   \n",
      "536          537         0       1   \n",
      "544          545         0       1   \n",
      "545          546         0       1   \n",
      "555          556         0       1   \n",
      "587          588         1       1   \n",
      "599          600         1       1   \n",
      "621          622         1       1   \n",
      "625          626         0       1   \n",
      "630          631         1       1   \n",
      "645          646         1       1   \n",
      "647          648         1       1   \n",
      "659          660         0       1   \n",
      "660          661         1       1   \n",
      "662          663         0       1   \n",
      "694          695         0       1   \n",
      "698          699         0       1   \n",
      "707          708         1       1   \n",
      "712          713         1       1   \n",
      "745          746         0       1   \n",
      "789          790         0       1   \n",
      "857          858         1       1   \n",
      "\n",
      "                                              Name   Sex   Age  SibSp  Parch  \\\n",
      "6                          McCarthy, Mr. Timothy J  male  54.0      0      0   \n",
      "30                        Uruchurtu, Don. Manuel E  male  40.0      0      0   \n",
      "35                  Holverson, Mr. Alexander Oskar  male  42.0      1      0   \n",
      "54                  Ostby, Mr. Engelhart Cornelius  male  65.0      0      1   \n",
      "62                     Harris, Mr. Henry Birkhardt  male  45.0      1      0   \n",
      "92                     Chaffee, Mr. Herbert Fuller  male  46.0      1      0   \n",
      "96                       Goldschmidt, Mr. George B  male  71.0      0      0   \n",
      "110                 Porter, Mr. Walter Chamberlain  male  47.0      0      0   \n",
      "124                    White, Mr. Percival Wayland  male  54.0      0      1   \n",
      "155                    Williams, Mr. Charles Duane  male  51.0      0      1   \n",
      "170                      Van der hoef, Mr. Wyckoff  male  61.0      0      0   \n",
      "174                        Smith, Mr. James Clinch  male  56.0      0      0   \n",
      "187  Romaine, Mr. Charles Hallace (\"Mr C Rolmane\")  male  45.0      0      0   \n",
      "209                               Blank, Mr. Henry  male  40.0      0      0   \n",
      "245                    Minahan, Dr. William Edward  male  44.0      2      0   \n",
      "252                      Stead, Mr. William Thomas  male  62.0      0      0   \n",
      "262                              Taussig, Mr. Emil  male  52.0      1      1   \n",
      "263                          Harrison, Mr. William  male  40.0      0      0   \n",
      "331                            Partner, Mr. Austen  male  45.5      0      0   \n",
      "339                   Blackwell, Mr. Stephen Weart  male  45.0      0      0   \n",
      "434                      Silvey, Mr. William Baird  male  50.0      1      0   \n",
      "438                              Fortune, Mr. Mark  male  64.0      1      4   \n",
      "449                 Peuchen, Major. Arthur Godfrey  male  52.0      0      0   \n",
      "453                       Goldenberg, Mr. Samuel L  male  49.0      1      0   \n",
      "456                      Millet, Mr. Francis Davis  male  65.0      0      0   \n",
      "460                            Anderson, Mr. Harry  male  48.0      0      0   \n",
      "462                              Gee, Mr. Arthur H  male  47.0      0      0   \n",
      "467                     Smart, Mr. John Montgomery  male  56.0      0      0   \n",
      "487                        Kent, Mr. Edward Austin  male  58.0      0      0   \n",
      "492                     Molson, Mr. Harry Markland  male  55.0      0      0   \n",
      "493                        Artagaveytia, Mr. Ramon  male  71.0      0      0   \n",
      "515                   Walker, Mr. William Anderson  male  47.0      0      0   \n",
      "536              Butt, Major. Archibald Willingham  male  45.0      0      0   \n",
      "544                     Douglas, Mr. Walter Donald  male  50.0      1      0   \n",
      "545                   Nicholson, Mr. Arthur Ernest  male  64.0      0      0   \n",
      "555                             Wright, Mr. George  male  62.0      0      0   \n",
      "587               Frolicher-Stehli, Mr. Maxmillian  male  60.0      1      1   \n",
      "599   Duff Gordon, Sir. Cosmo Edmund (\"Mr Morgan\")  male  49.0      1      0   \n",
      "621                   Kimball, Mr. Edwin Nelson Jr  male  42.0      1      0   \n",
      "625                          Sutton, Mr. Frederick  male  61.0      0      0   \n",
      "630           Barkworth, Mr. Algernon Henry Wilson  male  80.0      0      0   \n",
      "645                      Harper, Mr. Henry Sleeper  male  48.0      1      0   \n",
      "647            Simonius-Blumer, Col. Oberst Alfons  male  56.0      0      0   \n",
      "659                     Newell, Mr. Arthur Webster  male  58.0      0      2   \n",
      "660                  Frauenthal, Dr. Henry William  male  50.0      2      0   \n",
      "662                     Colley, Mr. Edward Pomeroy  male  47.0      0      0   \n",
      "694                                Weir, Col. John  male  60.0      0      0   \n",
      "698                       Thayer, Mr. John Borland  male  49.0      1      1   \n",
      "707              Calderhead, Mr. Edward Pennington  male  42.0      0      0   \n",
      "712                       Taylor, Mr. Elmer Zebley  male  48.0      1      0   \n",
      "745                   Crosby, Capt. Edward Gifford  male  70.0      1      1   \n",
      "789                       Guggenheim, Mr. Benjamin  male  46.0      0      0   \n",
      "857                         Daly, Mr. Peter Denis   male  51.0      0      0   \n",
      "\n",
      "          Ticket      Fare        Cabin Embarked  \n",
      "6          17463   51.8625          E46        S  \n",
      "30      PC 17601   27.7208          NaN        C  \n",
      "35        113789   52.0000          NaN        S  \n",
      "54        113509   61.9792          B30        C  \n",
      "62         36973   83.4750          C83        S  \n",
      "92   W.E.P. 5734   61.1750          E31        S  \n",
      "96      PC 17754   34.6542           A5        C  \n",
      "110       110465   52.0000         C110        S  \n",
      "124        35281   77.2875          D26        S  \n",
      "155     PC 17597   61.3792          NaN        C  \n",
      "170       111240   33.5000          B19        S  \n",
      "174        17764   30.6958           A7        C  \n",
      "187       111428   26.5500          NaN        S  \n",
      "209       112277   31.0000          A31        C  \n",
      "245        19928   90.0000          C78        Q  \n",
      "252       113514   26.5500          C87        S  \n",
      "262       110413   79.6500          E67        S  \n",
      "263       112059    0.0000          B94        S  \n",
      "331       113043   28.5000         C124        S  \n",
      "339       113784   35.5000            T        S  \n",
      "434        13507   55.9000          E44        S  \n",
      "438        19950  263.0000  C23 C25 C27        S  \n",
      "449       113786   30.5000         C104        S  \n",
      "453        17453   89.1042          C92        C  \n",
      "456        13509   26.5500          E38        S  \n",
      "460        19952   26.5500          E12        S  \n",
      "462       111320   38.5000          E63        S  \n",
      "467       113792   26.5500          NaN        S  \n",
      "487        11771   29.7000          B37        C  \n",
      "492       113787   30.5000          C30        S  \n",
      "493     PC 17609   49.5042          NaN        C  \n",
      "515        36967   34.0208          D46        S  \n",
      "536       113050   26.5500          B38        S  \n",
      "544     PC 17761  106.4250          C86        C  \n",
      "545          693   26.0000          NaN        S  \n",
      "555       113807   26.5500          NaN        S  \n",
      "587        13567   79.2000          B41        C  \n",
      "599     PC 17485   56.9292          A20        C  \n",
      "621        11753   52.5542          D19        S  \n",
      "625        36963   32.3208          D50        S  \n",
      "630        27042   30.0000          A23        S  \n",
      "645     PC 17572   76.7292          D33        C  \n",
      "647        13213   35.5000          A26        C  \n",
      "659        35273  113.2750          D48        C  \n",
      "660     PC 17611  133.6500          NaN        S  \n",
      "662         5727   25.5875          E58        S  \n",
      "694       113800   26.5500          NaN        S  \n",
      "698        17421  110.8833          C68        C  \n",
      "707     PC 17476   26.2875          E24        S  \n",
      "712        19996   52.0000         C126        S  \n",
      "745    WE/P 5735   71.0000          B22        S  \n",
      "789     PC 17593   79.2000      B82 B84        C  \n",
      "857       113055   26.5500          E17        S  \u001b[0m\n",
      "Thought:\u001b[32;1m\u001b[1;3m 이 행의 살아남은 여부를 찾아야 한다.\n",
      "Action: python_repl_ast\n",
      "Action Input: df[(df['Sex']=='male') & (df['Age']>=40) & (df['Pclass']==1)]['Survived'].sum()\u001b[0m\n",
      "Observation: \u001b[36;1m\u001b[1;3m15\u001b[0m\n",
      "Thought:\u001b[32;1m\u001b[1;3m 전체 행의 개수를 찾아야 한다.\n",
      "Action: python_repl_ast\n",
      "Action Input: df[(df['Sex']=='male') & (df['Age']>=40) & (df['Pclass']==1)]['Survived'].count()\u001b[0m\n",
      "Observation: \u001b[36;1m\u001b[1;3m53\u001b[0m\n",
      "Thought:\u001b[32;1m\u001b[1;3m 이 값을 비율로 계산하면 살아남은 확률을 알 수 있다.\n",
      "Action: python_repl_ast\n",
      "Action Input: df[(df['Sex']=='male') & (df['Age']>=40) & (df['Pclass']==1)]['Survived'].sum()/df[(df['Sex']=='male') & (df['Age']>=40) & (df['Pclass']==1)]['Survived'].count()\u001b[0m\n",
      "Observation: \u001b[36;1m\u001b[1;3m0.2830188679245283\u001b[0m\n",
      "Thought:\u001b[32;1m\u001b[1;3m 남성 40대 티켓클래스 1 인 행들의 살아남은 확률은 28.3% 이다.\n",
      "Final Answer: 남성 40대 티켓클래스 1 라고하면 살아 있을 확률은 28.3% 이다.\u001b[0m\n",
      "\n",
      "\u001b[1m> Finished chain.\u001b[0m\n"
     ]
    },
    {
     "data": {
      "text/plain": [
       "'남성 40대 티켓클래스 1 라고하면 살아 있을 확률은 28.3% 이다.'"
      ]
     },
     "execution_count": 29,
     "metadata": {},
     "output_type": "execute_result"
    }
   ],
   "source": [
    "agent.run(\"전체 데이터를 분석해보면, 남성 40대 티켓클래스 1 라고하면 살아 있을 확률이 얼마나될까?\")"
   ]
  },
  {
   "cell_type": "code",
   "execution_count": null,
   "metadata": {},
   "outputs": [],
   "source": []
  }
 ],
 "metadata": {
  "kernelspec": {
   "display_name": "Python 3",
   "language": "python",
   "name": "python3"
  },
  "language_info": {
   "codemirror_mode": {
    "name": "ipython",
    "version": 3
   },
   "file_extension": ".py",
   "mimetype": "text/x-python",
   "name": "python",
   "nbconvert_exporter": "python",
   "pygments_lexer": "ipython3",
   "version": "3.10.4"
  },
  "orig_nbformat": 4
 },
 "nbformat": 4,
 "nbformat_minor": 2
}
